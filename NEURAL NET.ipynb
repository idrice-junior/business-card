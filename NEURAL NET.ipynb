{
  "nbformat": 4,
  "nbformat_minor": 0,
  "metadata": {
    "colab": {
      "provenance": [],
      "authorship_tag": "ABX9TyPD/okqjoAA2VIp6fAHbjjJ",
      "include_colab_link": true
    },
    "kernelspec": {
      "name": "python3",
      "display_name": "Python 3"
    },
    "language_info": {
      "name": "python"
    }
  },
  "cells": [
    {
      "cell_type": "markdown",
      "metadata": {
        "id": "view-in-github",
        "colab_type": "text"
      },
      "source": [
        "<a href=\"https://colab.research.google.com/github/idrice-junior/business-card/blob/main/NEURAL%20NET.ipynb\" target=\"_parent\"><img src=\"https://colab.research.google.com/assets/colab-badge.svg\" alt=\"Open In Colab\"/></a>"
      ]
    },
    {
      "cell_type": "code",
      "execution_count": 2,
      "metadata": {
        "id": "7QUcT6LeSBvo"
      },
      "outputs": [],
      "source": [
        "import numpy as np\n",
        "import matplotlib.pyplot as plt"
      ]
    },
    {
      "cell_type": "code",
      "source": [
        "def relu(z):\n",
        "  return np.maximum(0,z)\n",
        "def linear(z):\n",
        "  return z\n",
        "def derilinear(z):\n",
        "  return 1\n",
        "def derirelu(z):\n",
        "  return relu(z)>0"
      ],
      "metadata": {
        "id": "60Q1MLtJXyE1"
      },
      "execution_count": 3,
      "outputs": []
    },
    {
      "cell_type": "code",
      "source": [
        "def initialise(input_neurons,hidden_neurons,output_neurons):\n",
        "  w1 = np.random.rand(hidden_neurons,input_neurons)-0.5\n",
        "  b1 = np.zeros((hidden_neurons,1))\n",
        "  w2 = np.random.rand(output_neurons,hidden_neurons)-0.5\n",
        "  b2 = np.zeros((output_neurons,1))\n",
        "  return w1,b1,w2,b2"
      ],
      "metadata": {
        "id": "CQ1UYJTiT99j"
      },
      "execution_count": 4,
      "outputs": []
    },
    {
      "cell_type": "code",
      "source": [
        "#forward pass\n",
        "def forwardpro(a0,w1,b1,w2,b2,):\n",
        "  z1 = np.dot(w1,a0) + b1\n",
        "  a1 = relu(z1)\n",
        "  z2 = np.dot(w2,a1) + b2\n",
        "  a2 = linear(z2)\n",
        "  return z1,a1,z2,a2\n",
        "a0 = np.array([0.5,0.5]).reshape(2,1)\n",
        "w1,b1,w2,b2 = initialise(2,3,2)\n",
        "z1,a1,z2,a2 = forwardpro(a0,w1,b1,w2,b2)\n"
      ],
      "metadata": {
        "id": "I0Krmj79UOta"
      },
      "execution_count": 5,
      "outputs": []
    },
    {
      "cell_type": "code",
      "source": [
        "#compute gradients\n",
        "def gradient(a2,y,z2,a1,w2,z1,a0):\n",
        "  de2 = (a2-y)*derilinear(z2)\n",
        "  db2 = de2\n",
        "  dw2 = np.dot(de2,a1.T)\n",
        "  da1 = np.dot(w2.T,de2)\n",
        "  de1 = da1*derirelu(z1)\n",
        "  db1 = de1\n",
        "  dw1 = np.dot(de1,a0.T)\n",
        "  return dw1,db1,dw2,db2\n",
        "a0 = np.array([0.5,0.5]).reshape(2,1)\n",
        "y = np.random.rand(2,1)\n",
        "w1,b1,w2,b2 = initialise(2,3,2)\n",
        "z1,a1,z2,a2 = forwardpro(a0,w1,b1,w2,b2)\n",
        "dw1,db1,dw2,db2 = gradient(a2,y,z2,a1,w2,z1,a0)"
      ],
      "metadata": {
        "id": "l4dIN4zaW0eJ"
      },
      "execution_count": 6,
      "outputs": []
    },
    {
      "cell_type": "code",
      "source": [
        "# weight updates\n",
        "def update(eta,w1,b1,w2,b2,dw1,db1,dw2,db2):\n",
        "  w1 = w1 - eta*dw1\n",
        "  b1 = b1 - eta*db1\n",
        "  w2 = w2 - eta*dw2\n",
        "  b2 = b2 - eta*db2\n",
        "  return w1,b1,w2,b2"
      ],
      "metadata": {
        "id": "UCUFJzMrcUwm"
      },
      "execution_count": 7,
      "outputs": []
    },
    {
      "cell_type": "code",
      "source": [
        "a0 = np.array([0.5,0.5]).reshape(2,1)\n",
        "y = np.array([-0.5,0.5]).reshape(2,1)\n",
        "eta = 0.1\n",
        "epoch = 10\n",
        "w1,b1,w2,b2 = initialise(2,3,2)\n",
        "for i in range(epoch):\n",
        "  z1,a1,z2,a2 = forwardpro(a0,w1,b1,w2,b2)\n",
        "  dw1,db1,dw2,db2 = gradient(a2,y,z2,a1,w2,z1,a0)\n",
        "  w1,b1,w2,b2 = update(eta,w1,b1,w2,b2,dw1,db1,dw2,db2)\n",
        "  cost = (np.sum((a2-y)**2))*0.5"
      ],
      "metadata": {
        "id": "2VM3P6cdeFbP"
      },
      "execution_count": 8,
      "outputs": []
    },
    {
      "cell_type": "code",
      "source": [
        "x_input = np.random.uniform(-1,1,(1000,2))\n",
        "rm = [[-1,0],[0,1]]\n",
        "x_ground = np.dot(rm,x_input.T).T\n"
      ],
      "metadata": {
        "id": "5FoaLos4fcuC"
      },
      "execution_count": 28,
      "outputs": []
    },
    {
      "cell_type": "code",
      "source": [
        "#plt.scatter(x_input[:,0],x_input[:,1], c =\"RED\")\n",
        "#plt.scatter(x_ground[:,0],x_ground[:,1], c =\"GREEN\")\n",
        "#plt.show()"
      ],
      "metadata": {
        "id": "Dd4xxyQDIrrf"
      },
      "execution_count": 29,
      "outputs": []
    },
    {
      "cell_type": "code",
      "source": [
        "a0 = np.array([0.5,0.5]).reshape(2,1)\n",
        "y = np.array([-0.5,0.5]).reshape(2,1)\n",
        "eta = 0.1\n",
        "epoch = 200\n",
        "w1,b1,w2,b2 = initialise(2,3,2)\n",
        "for i in range(epoch):\n",
        "  cost = 0\n",
        "  for j in range(1000):\n",
        "    a0 = x_input[j,:].T.reshape(2,1)\n",
        "    y = x_ground[j,:].T.reshape(2,1)\n",
        "    z1,a1,z2,a2 = forwardpro(a0,w1,b1,w2,b2)\n",
        "    dw1,db1,dw2,db2 = gradient(a2,y,z2,a1,w2,z1,a0)\n",
        "    w1,b1,w2,b2 = update(eta,w1,b1,w2,b2,dw1,db1,dw2,db2)\n",
        "    cost = cost + (np.sum((a2-y)**2))*0.5\n",
        "  print(cost)"
      ],
      "metadata": {
        "colab": {
          "base_uri": "https://localhost:8080/"
        },
        "id": "9RXnqUdeJtsK",
        "outputId": "9d6fc753-33a9-4cc4-f4c2-e87a9846a59c"
      },
      "execution_count": 33,
      "outputs": [
        {
          "output_type": "stream",
          "name": "stdout",
          "text": [
            "30.37277297709309\n",
            "0.13268472793831254\n",
            "0.035382187865327666\n",
            "0.014442145563338062\n",
            "0.007193980667948437\n",
            "0.004022439015727993\n",
            "0.002430458886806609\n",
            "0.0015577367121492676\n",
            "0.0010144595533197087\n",
            "0.0006865799433808827\n",
            "0.0004894819667283837\n",
            "0.0003648028769714193\n",
            "0.00027275219986948735\n",
            "0.00020469874716412003\n",
            "0.00015452468459918364\n",
            "0.00011722330182480741\n",
            "8.908706696700227e-05\n",
            "6.783871620056936e-05\n",
            "5.1784288766677126e-05\n",
            "3.96528789726877e-05\n",
            "3.0486681966816313e-05\n",
            "2.3562150398898006e-05\n",
            "1.832731618180903e-05\n",
            "1.4335862484278698e-05\n",
            "1.126968961842434e-05\n",
            "8.912422282769662e-06\n",
            "7.099033678646638e-06\n",
            "5.703283892293464e-06\n",
            "4.628423770805377e-06\n",
            "3.7939284279917105e-06\n",
            "3.14352203405062e-06\n",
            "2.6374467183239433e-06\n",
            "2.191125961051587e-06\n",
            "1.7515285287217568e-06\n",
            "1.4078905038252139e-06\n",
            "1.1389498875097976e-06\n",
            "9.282089752857127e-07\n",
            "7.628578771540902e-07\n",
            "6.329427348070849e-07\n",
            "5.307227805926827e-07\n",
            "4.495811183045515e-07\n",
            "3.8232493439621766e-07\n",
            "3.2599719234001825e-07\n",
            "2.7866881787681266e-07\n",
            "2.387684013557839e-07\n",
            "2.050231285349249e-07\n",
            "1.763979126856867e-07\n",
            "1.520475999830296e-07\n",
            "1.3127933764790341e-07\n",
            "1.1352285768580106e-07\n",
            "9.830693890685189e-08\n",
            "8.524070224166872e-08\n",
            "7.399869642249851e-08\n",
            "6.43089639338765e-08\n",
            "5.59434568466537e-08\n",
            "4.871031095596721e-08\n",
            "4.244759409479958e-08\n",
            "3.701822770172267e-08\n",
            "3.230584535870794e-08\n",
            "2.8211402229663646e-08\n",
            "2.4650388492966886e-08\n",
            "2.1550530386373187e-08\n",
            "1.8849886431476952e-08\n",
            "1.649526512641013e-08\n",
            "1.4440905165425226e-08\n",
            "1.2647370862628972e-08\n",
            "1.1080624665728656e-08\n",
            "9.711245933742827e-09\n",
            "8.513770963151642e-09\n",
            "7.466133882511506e-09\n",
            "6.549191749943674e-09\n",
            "5.7463201734008685e-09\n",
            "5.043068183719934e-09\n",
            "4.426863042774987e-09\n",
            "3.886757253188618e-09\n",
            "3.4132113307293297e-09\n",
            "2.9979069619336295e-09\n",
            "2.6335860363442277e-09\n",
            "2.313911766121025e-09\n",
            "2.0333486956700274e-09\n",
            "1.7870564898444957e-09\n",
            "1.5707984902312682e-09\n",
            "1.3808787806751765e-09\n",
            "1.2140622755468145e-09\n",
            "1.0675156586620475e-09\n",
            "9.387567812554816e-10\n",
            "8.256105448377558e-10\n",
            "7.261704206589487e-10\n",
            "6.387648705053007e-10\n",
            "5.619280325030477e-10\n",
            "4.943741195568774e-10\n",
            "4.3497505163614356e-10\n",
            "3.8274090566921177e-10\n",
            "3.3680282223389504e-10\n",
            "2.9639805472288855e-10\n",
            "2.608568884327445e-10\n",
            "2.2959119159726967e-10\n",
            "2.0208439179904238e-10\n",
            "1.7788269777252394e-10\n",
            "1.5658740953344156e-10\n",
            "1.3784818006734858e-10\n",
            "1.213571093738611e-10\n",
            "1.068435665702955e-10\n",
            "9.406964942987706e-11\n",
            "8.282620176317182e-11\n",
            "7.292931944215355e-11\n",
            "6.421728448387271e-11\n",
            "5.654787410882223e-11\n",
            "4.979599859902155e-11\n",
            "4.385162724894358e-11\n",
            "3.861796710827671e-11\n",
            "3.400986328867518e-11\n",
            "2.9952393795068824e-11\n",
            "2.637963493188459e-11\n",
            "2.3233576494300128e-11\n",
            "2.0463168391896082e-11\n",
            "1.8023482699917592e-11\n",
            "1.5874977078505324e-11\n",
            "1.3982847175553787e-11\n",
            "1.2316457256914216e-11\n",
            "1.0848839515875871e-11\n",
            "9.556253747023914e-12\n",
            "8.417800101988329e-12\n",
            "7.415078421773038e-12\n",
            "6.531888602289263e-12\n",
            "5.753966957728402e-12\n",
            "5.068754293935705e-12\n",
            "4.4651918229074125e-12\n",
            "3.9335415775545546e-12\n",
            "3.4652283964422874e-12\n",
            "3.052700818286378e-12\n",
            "2.6893087058066234e-12\n",
            "2.3691954874667596e-12\n",
            "2.0872033351150434e-12\n",
            "1.838789676411201e-12\n",
            "1.6199537174921122e-12\n",
            "1.4271717483061499e-12\n",
            "1.257340179460713e-12\n",
            "1.1077254040180326e-12\n",
            "9.759196424578754e-13\n",
            "8.598020710666748e-13\n",
            "7.575045899228766e-13\n",
            "6.673816795344957e-13\n",
            "5.87983859796955e-13\n",
            "5.180343182545658e-13\n",
            "4.5640832104251e-13\n",
            "4.021150920035315e-13\n",
            "3.5428184242462243e-13\n",
            "3.121397145377256e-13\n",
            "2.7501139567999963e-13\n",
            "2.4230021511106973e-13\n",
            "2.1348053403263916e-13\n",
            "1.880892866583609e-13\n",
            "1.65718528538607e-13\n",
            "1.4600887183149613e-13\n",
            "1.286437007847899e-13\n",
            "1.1334408259597487e-13\n",
            "9.986427854419329e-14\n",
            "8.798779315356196e-14\n",
            "7.752389240126557e-14\n",
            "6.830453804426386e-14\n",
            "6.018168540599377e-14\n",
            "5.302490384896787e-14\n",
            "4.6719280815182365e-14\n",
            "4.116357490466957e-14\n",
            "3.6268589460804e-14\n",
            "3.195573833958825e-14\n",
            "2.8155783860197813e-14\n",
            "2.480772471857371e-14\n",
            "2.185781607421984e-14\n",
            "1.9258705277614413e-14\n",
            "1.6968672634539484e-14\n",
            "1.4950960584047828e-14\n",
            "1.3173183393000433e-14\n",
            "1.1606807374325041e-14\n",
            "1.0226692326253166e-14\n",
            "9.010687985639794e-15\n",
            "7.939278867203058e-15\n",
            "6.995269928655593e-15\n",
            "6.163511243979245e-15\n",
            "5.4306548190022794e-15\n",
            "4.784939767936389e-15\n",
            "4.216003917489148e-15\n",
            "3.71471741791522e-15\n",
            "3.2730360069727656e-15\n",
            "2.883872162649244e-15\n",
            "2.5409811097434217e-15\n",
            "2.2388606154190182e-15\n",
            "1.9726628402739184e-15\n",
            "1.7381163708547761e-15\n",
            "1.5314576721693001e-15\n",
            "1.3493707909673444e-15\n",
            "1.1889340445359473e-15\n",
            "1.047573147764714e-15\n",
            "9.230199528861312e-16\n",
            "8.132759898499339e-16\n",
            "7.165803931918245e-16\n",
            "6.313817284416103e-16\n",
            "5.563130065885596e-16\n",
            "4.901697411815111e-16\n"
          ]
        }
      ]
    },
    {
      "cell_type": "code",
      "source": [
        "test_x = np.arange(0,1,0.01)\n",
        "test_y = test_x**2\n",
        "\n",
        "test = np.column_stack([test_x,test_y])\n"
      ],
      "metadata": {
        "id": "sBoFNWzELana"
      },
      "execution_count": 47,
      "outputs": []
    },
    {
      "cell_type": "code",
      "source": [
        "n = test.shape[0]\n",
        "o = []\n",
        "p = []\n",
        "for i in range(0,n):\n",
        "  a0 = test[i,:].T.reshape(2,1)\n",
        "  z1,a1,z2,a2 = forwardpro(a0,w1,b1,w2,b2)\n",
        "  o.append(a2[0,0])\n",
        "  p.append(a2[1,0])\n",
        "plt.scatter(o,p,c=\"blue\")\n",
        "plt.scatter(test[:,0], test[:,1], c=\"RED\")\n",
        "plt.show()\n"
      ],
      "metadata": {
        "colab": {
          "base_uri": "https://localhost:8080/",
          "height": 430
        },
        "id": "6LBhEy54Malb",
        "outputId": "8a59c412-b07e-4fe2-8d2b-5d81ce0b77c2"
      },
      "execution_count": 53,
      "outputs": [
        {
          "output_type": "display_data",
          "data": {
            "text/plain": [
              "<Figure size 640x480 with 1 Axes>"
            ],
            "image/png": "[encoded data removed]"
          },
          "metadata": {}
        }
      ]
    },
    {
      "cell_type": "code",
      "source": [],
      "metadata": {
        "id": "L0c9oyTIPTmq"
      },
      "execution_count": null,
      "outputs": []
    }
  ]
}